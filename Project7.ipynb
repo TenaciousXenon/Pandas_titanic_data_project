{
 "cells": [
  {
   "cell_type": "code",
   "execution_count": 1,
   "id": "479e4b97-0ad6-44d2-a177-4adb3880d18e",
   "metadata": {},
   "outputs": [],
   "source": [
    "#loading data and libraries\n",
    "import pandas as pd\n",
    "import numpy as np\n",
    "import matplotlib.pyplot as plt\n",
    "# url = \"https://web.stanford.edu/class/archive/cs/cs109/cs109.1166/stuff/titanic.csv\"\n",
    "titanic_data = pd.read_csv('train.csv')"
   ]
  },
  {
   "cell_type": "raw",
   "id": "01b6b73f-504f-4604-ab57-a803ff008261",
   "metadata": {},
   "source": [
    ". Data Loading & Inspection\n",
    "\n",
    "Load CSV directly from URL\n",
    "Show:\n",
    "First 8 rows\n",
    "Data types of each column\n",
    "Summary statistics for numerical columns\n",
    "Count of unique values in categorical columns (Sex, Pclass, Embarked)"
   ]
  },
  {
   "cell_type": "code",
   "execution_count": 2,
   "id": "cce5d95e-63d3-461f-8c86-5590e609c2f5",
   "metadata": {},
   "outputs": [
    {
     "data": {
      "text/html": [
       "<div>\n",
       "<style scoped>\n",
       "    .dataframe tbody tr th:only-of-type {\n",
       "        vertical-align: middle;\n",
       "    }\n",
       "\n",
       "    .dataframe tbody tr th {\n",
       "        vertical-align: top;\n",
       "    }\n",
       "\n",
       "    .dataframe thead th {\n",
       "        text-align: right;\n",
       "    }\n",
       "</style>\n",
       "<table border=\"1\" class=\"dataframe\">\n",
       "  <thead>\n",
       "    <tr style=\"text-align: right;\">\n",
       "      <th></th>\n",
       "      <th>PassengerId</th>\n",
       "      <th>Survived</th>\n",
       "      <th>Pclass</th>\n",
       "      <th>Name</th>\n",
       "      <th>Sex</th>\n",
       "      <th>Age</th>\n",
       "      <th>SibSp</th>\n",
       "      <th>Parch</th>\n",
       "      <th>Ticket</th>\n",
       "      <th>Fare</th>\n",
       "      <th>Cabin</th>\n",
       "      <th>Embarked</th>\n",
       "    </tr>\n",
       "  </thead>\n",
       "  <tbody>\n",
       "    <tr>\n",
       "      <th>0</th>\n",
       "      <td>1</td>\n",
       "      <td>0</td>\n",
       "      <td>3</td>\n",
       "      <td>Braund, Mr. Owen Harris</td>\n",
       "      <td>male</td>\n",
       "      <td>22.0</td>\n",
       "      <td>1</td>\n",
       "      <td>0</td>\n",
       "      <td>A/5 21171</td>\n",
       "      <td>7.2500</td>\n",
       "      <td>NaN</td>\n",
       "      <td>S</td>\n",
       "    </tr>\n",
       "    <tr>\n",
       "      <th>1</th>\n",
       "      <td>2</td>\n",
       "      <td>1</td>\n",
       "      <td>1</td>\n",
       "      <td>Cumings, Mrs. John Bradley (Florence Briggs Th...</td>\n",
       "      <td>female</td>\n",
       "      <td>38.0</td>\n",
       "      <td>1</td>\n",
       "      <td>0</td>\n",
       "      <td>PC 17599</td>\n",
       "      <td>71.2833</td>\n",
       "      <td>C85</td>\n",
       "      <td>C</td>\n",
       "    </tr>\n",
       "    <tr>\n",
       "      <th>2</th>\n",
       "      <td>3</td>\n",
       "      <td>1</td>\n",
       "      <td>3</td>\n",
       "      <td>Heikkinen, Miss. Laina</td>\n",
       "      <td>female</td>\n",
       "      <td>26.0</td>\n",
       "      <td>0</td>\n",
       "      <td>0</td>\n",
       "      <td>STON/O2. 3101282</td>\n",
       "      <td>7.9250</td>\n",
       "      <td>NaN</td>\n",
       "      <td>S</td>\n",
       "    </tr>\n",
       "    <tr>\n",
       "      <th>3</th>\n",
       "      <td>4</td>\n",
       "      <td>1</td>\n",
       "      <td>1</td>\n",
       "      <td>Futrelle, Mrs. Jacques Heath (Lily May Peel)</td>\n",
       "      <td>female</td>\n",
       "      <td>35.0</td>\n",
       "      <td>1</td>\n",
       "      <td>0</td>\n",
       "      <td>113803</td>\n",
       "      <td>53.1000</td>\n",
       "      <td>C123</td>\n",
       "      <td>S</td>\n",
       "    </tr>\n",
       "    <tr>\n",
       "      <th>4</th>\n",
       "      <td>5</td>\n",
       "      <td>0</td>\n",
       "      <td>3</td>\n",
       "      <td>Allen, Mr. William Henry</td>\n",
       "      <td>male</td>\n",
       "      <td>35.0</td>\n",
       "      <td>0</td>\n",
       "      <td>0</td>\n",
       "      <td>373450</td>\n",
       "      <td>8.0500</td>\n",
       "      <td>NaN</td>\n",
       "      <td>S</td>\n",
       "    </tr>\n",
       "    <tr>\n",
       "      <th>5</th>\n",
       "      <td>6</td>\n",
       "      <td>0</td>\n",
       "      <td>3</td>\n",
       "      <td>Moran, Mr. James</td>\n",
       "      <td>male</td>\n",
       "      <td>NaN</td>\n",
       "      <td>0</td>\n",
       "      <td>0</td>\n",
       "      <td>330877</td>\n",
       "      <td>8.4583</td>\n",
       "      <td>NaN</td>\n",
       "      <td>Q</td>\n",
       "    </tr>\n",
       "    <tr>\n",
       "      <th>6</th>\n",
       "      <td>7</td>\n",
       "      <td>0</td>\n",
       "      <td>1</td>\n",
       "      <td>McCarthy, Mr. Timothy J</td>\n",
       "      <td>male</td>\n",
       "      <td>54.0</td>\n",
       "      <td>0</td>\n",
       "      <td>0</td>\n",
       "      <td>17463</td>\n",
       "      <td>51.8625</td>\n",
       "      <td>E46</td>\n",
       "      <td>S</td>\n",
       "    </tr>\n",
       "    <tr>\n",
       "      <th>7</th>\n",
       "      <td>8</td>\n",
       "      <td>0</td>\n",
       "      <td>3</td>\n",
       "      <td>Palsson, Master. Gosta Leonard</td>\n",
       "      <td>male</td>\n",
       "      <td>2.0</td>\n",
       "      <td>3</td>\n",
       "      <td>1</td>\n",
       "      <td>349909</td>\n",
       "      <td>21.0750</td>\n",
       "      <td>NaN</td>\n",
       "      <td>S</td>\n",
       "    </tr>\n",
       "  </tbody>\n",
       "</table>\n",
       "</div>"
      ],
      "text/plain": [
       "   PassengerId  Survived  Pclass  \\\n",
       "0            1         0       3   \n",
       "1            2         1       1   \n",
       "2            3         1       3   \n",
       "3            4         1       1   \n",
       "4            5         0       3   \n",
       "5            6         0       3   \n",
       "6            7         0       1   \n",
       "7            8         0       3   \n",
       "\n",
       "                                                Name     Sex   Age  SibSp  \\\n",
       "0                            Braund, Mr. Owen Harris    male  22.0      1   \n",
       "1  Cumings, Mrs. John Bradley (Florence Briggs Th...  female  38.0      1   \n",
       "2                             Heikkinen, Miss. Laina  female  26.0      0   \n",
       "3       Futrelle, Mrs. Jacques Heath (Lily May Peel)  female  35.0      1   \n",
       "4                           Allen, Mr. William Henry    male  35.0      0   \n",
       "5                                   Moran, Mr. James    male   NaN      0   \n",
       "6                            McCarthy, Mr. Timothy J    male  54.0      0   \n",
       "7                     Palsson, Master. Gosta Leonard    male   2.0      3   \n",
       "\n",
       "   Parch            Ticket     Fare Cabin Embarked  \n",
       "0      0         A/5 21171   7.2500   NaN        S  \n",
       "1      0          PC 17599  71.2833   C85        C  \n",
       "2      0  STON/O2. 3101282   7.9250   NaN        S  \n",
       "3      0            113803  53.1000  C123        S  \n",
       "4      0            373450   8.0500   NaN        S  \n",
       "5      0            330877   8.4583   NaN        Q  \n",
       "6      0             17463  51.8625   E46        S  \n",
       "7      1            349909  21.0750   NaN        S  "
      ]
     },
     "execution_count": 2,
     "metadata": {},
     "output_type": "execute_result"
    }
   ],
   "source": [
    "titanic_data.head(8)"
   ]
  },
  {
   "cell_type": "code",
   "execution_count": 3,
   "id": "8a93e407-e742-4385-b4ab-e2398abcc8cb",
   "metadata": {},
   "outputs": [
    {
     "data": {
      "text/plain": [
       "PassengerId      int64\n",
       "Survived         int64\n",
       "Pclass           int64\n",
       "Name            object\n",
       "Sex             object\n",
       "Age            float64\n",
       "SibSp            int64\n",
       "Parch            int64\n",
       "Ticket          object\n",
       "Fare           float64\n",
       "Cabin           object\n",
       "Embarked        object\n",
       "dtype: object"
      ]
     },
     "execution_count": 3,
     "metadata": {},
     "output_type": "execute_result"
    }
   ],
   "source": [
    "titanic_data.dtypes"
   ]
  },
  {
   "cell_type": "code",
   "execution_count": 4,
   "id": "455b00b7-87f0-48af-b1eb-32dba6eaa12c",
   "metadata": {},
   "outputs": [
    {
     "data": {
      "text/html": [
       "<div>\n",
       "<style scoped>\n",
       "    .dataframe tbody tr th:only-of-type {\n",
       "        vertical-align: middle;\n",
       "    }\n",
       "\n",
       "    .dataframe tbody tr th {\n",
       "        vertical-align: top;\n",
       "    }\n",
       "\n",
       "    .dataframe thead th {\n",
       "        text-align: right;\n",
       "    }\n",
       "</style>\n",
       "<table border=\"1\" class=\"dataframe\">\n",
       "  <thead>\n",
       "    <tr style=\"text-align: right;\">\n",
       "      <th></th>\n",
       "      <th>PassengerId</th>\n",
       "      <th>Survived</th>\n",
       "      <th>Pclass</th>\n",
       "      <th>Age</th>\n",
       "      <th>SibSp</th>\n",
       "      <th>Parch</th>\n",
       "      <th>Fare</th>\n",
       "    </tr>\n",
       "  </thead>\n",
       "  <tbody>\n",
       "    <tr>\n",
       "      <th>count</th>\n",
       "      <td>891.000000</td>\n",
       "      <td>891.000000</td>\n",
       "      <td>891.000000</td>\n",
       "      <td>714.000000</td>\n",
       "      <td>891.000000</td>\n",
       "      <td>891.000000</td>\n",
       "      <td>891.000000</td>\n",
       "    </tr>\n",
       "    <tr>\n",
       "      <th>mean</th>\n",
       "      <td>446.000000</td>\n",
       "      <td>0.383838</td>\n",
       "      <td>2.308642</td>\n",
       "      <td>29.699118</td>\n",
       "      <td>0.523008</td>\n",
       "      <td>0.381594</td>\n",
       "      <td>32.204208</td>\n",
       "    </tr>\n",
       "    <tr>\n",
       "      <th>std</th>\n",
       "      <td>257.353842</td>\n",
       "      <td>0.486592</td>\n",
       "      <td>0.836071</td>\n",
       "      <td>14.526497</td>\n",
       "      <td>1.102743</td>\n",
       "      <td>0.806057</td>\n",
       "      <td>49.693429</td>\n",
       "    </tr>\n",
       "    <tr>\n",
       "      <th>min</th>\n",
       "      <td>1.000000</td>\n",
       "      <td>0.000000</td>\n",
       "      <td>1.000000</td>\n",
       "      <td>0.420000</td>\n",
       "      <td>0.000000</td>\n",
       "      <td>0.000000</td>\n",
       "      <td>0.000000</td>\n",
       "    </tr>\n",
       "    <tr>\n",
       "      <th>25%</th>\n",
       "      <td>223.500000</td>\n",
       "      <td>0.000000</td>\n",
       "      <td>2.000000</td>\n",
       "      <td>20.125000</td>\n",
       "      <td>0.000000</td>\n",
       "      <td>0.000000</td>\n",
       "      <td>7.910400</td>\n",
       "    </tr>\n",
       "    <tr>\n",
       "      <th>50%</th>\n",
       "      <td>446.000000</td>\n",
       "      <td>0.000000</td>\n",
       "      <td>3.000000</td>\n",
       "      <td>28.000000</td>\n",
       "      <td>0.000000</td>\n",
       "      <td>0.000000</td>\n",
       "      <td>14.454200</td>\n",
       "    </tr>\n",
       "    <tr>\n",
       "      <th>75%</th>\n",
       "      <td>668.500000</td>\n",
       "      <td>1.000000</td>\n",
       "      <td>3.000000</td>\n",
       "      <td>38.000000</td>\n",
       "      <td>1.000000</td>\n",
       "      <td>0.000000</td>\n",
       "      <td>31.000000</td>\n",
       "    </tr>\n",
       "    <tr>\n",
       "      <th>max</th>\n",
       "      <td>891.000000</td>\n",
       "      <td>1.000000</td>\n",
       "      <td>3.000000</td>\n",
       "      <td>80.000000</td>\n",
       "      <td>8.000000</td>\n",
       "      <td>6.000000</td>\n",
       "      <td>512.329200</td>\n",
       "    </tr>\n",
       "  </tbody>\n",
       "</table>\n",
       "</div>"
      ],
      "text/plain": [
       "       PassengerId    Survived      Pclass         Age       SibSp  \\\n",
       "count   891.000000  891.000000  891.000000  714.000000  891.000000   \n",
       "mean    446.000000    0.383838    2.308642   29.699118    0.523008   \n",
       "std     257.353842    0.486592    0.836071   14.526497    1.102743   \n",
       "min       1.000000    0.000000    1.000000    0.420000    0.000000   \n",
       "25%     223.500000    0.000000    2.000000   20.125000    0.000000   \n",
       "50%     446.000000    0.000000    3.000000   28.000000    0.000000   \n",
       "75%     668.500000    1.000000    3.000000   38.000000    1.000000   \n",
       "max     891.000000    1.000000    3.000000   80.000000    8.000000   \n",
       "\n",
       "            Parch        Fare  \n",
       "count  891.000000  891.000000  \n",
       "mean     0.381594   32.204208  \n",
       "std      0.806057   49.693429  \n",
       "min      0.000000    0.000000  \n",
       "25%      0.000000    7.910400  \n",
       "50%      0.000000   14.454200  \n",
       "75%      0.000000   31.000000  \n",
       "max      6.000000  512.329200  "
      ]
     },
     "execution_count": 4,
     "metadata": {},
     "output_type": "execute_result"
    }
   ],
   "source": [
    "titanic_data.describe()"
   ]
  },
  {
   "cell_type": "code",
   "execution_count": 5,
   "id": "c16b7d9a-bd3e-450d-963e-3c668d444a04",
   "metadata": {},
   "outputs": [
    {
     "data": {
      "text/plain": [
       "Name        891\n",
       "Sex           2\n",
       "Ticket      681\n",
       "Cabin       147\n",
       "Embarked      3\n",
       "dtype: int64"
      ]
     },
     "execution_count": 5,
     "metadata": {},
     "output_type": "execute_result"
    }
   ],
   "source": [
    "# Count unique values in specific categorical columns\n",
    "categorical_cols = titanic_data.select_dtypes(include=['object', 'category']).columns\n",
    "titanic_data[categorical_cols].nunique()"
   ]
  },
  {
   "cell_type": "raw",
   "id": "c0354980-efbe-4cf4-9aa6-8a662f2c01db",
   "metadata": {},
   "source": [
    "2. Data Cleaning\n",
    "\n",
    "Handle missing values:\n",
    "Fill missing Age with median grouped by Passenger Class\n",
    "Fill missing Embarked with mode (most frequent value)\n",
    "Drop Cabin column (too many missing values)\n",
    "Convert Sex to numerical: male → 0, female → 1"
   ]
  },
  {
   "cell_type": "code",
   "execution_count": 6,
   "id": "edd40bbc-f16b-435c-8b64-cc019aee1376",
   "metadata": {},
   "outputs": [],
   "source": [
    "# Fill missing 'Age' with median of each 'Pclass' group\n",
    "titanic_data['Age'] = titanic_data['Age'].fillna(\n",
    "    titanic_data.groupby('Pclass')['Age'].transform('median'))"
   ]
  },
  {
   "cell_type": "code",
   "execution_count": 7,
   "id": "9ab21769-c4fb-43ac-9e69-560a4af923c7",
   "metadata": {},
   "outputs": [],
   "source": [
    "# Fill missing \"Embarked\" with its mode\n",
    "x = titanic_data[\"Embarked\"].mode()[0]  \n",
    "titanic_data.fillna({\"Embarked\": x}, inplace=True)\n",
    "\n",
    "# mode() returns a Series, not a single value, even if there's only one most frequent value. \n",
    "# You need to extract the first mode using .mode()[0]"
   ]
  },
  {
   "cell_type": "code",
   "execution_count": 8,
   "id": "84f2d3e8-be14-43f5-8d7c-b21d6eafc5af",
   "metadata": {},
   "outputs": [],
   "source": [
    "# Drop Cabin column (too many missing values)\n",
    "titanic_data.drop('Cabin', axis=1, inplace=True)"
   ]
  },
  {
   "cell_type": "code",
   "execution_count": 9,
   "id": "bff6ea53-7307-458e-82bb-a049dcf86a4b",
   "metadata": {},
   "outputs": [],
   "source": [
    "# Convert Sex to numerical: male → 0, female → 1\n",
    "titanic_data[\"Sex\"] = titanic_data[\"Sex\"].map({'male': 0, 'female': 1})\n",
    "# type conversions liek object being used as a string can\n",
    "# sometimes lead to issues where \"male\" doesnt equal 'male' so be careful of that"
   ]
  },
  {
   "cell_type": "raw",
   "id": "0352015e-aee0-4182-b273-5f4c4decf47b",
   "metadata": {},
   "source": [
    "3. Feature Engineering\n",
    "\n",
    "Create new features:\n",
    "FamilySize: Sum of Siblings/Spouses Aboard + Parents/Children Aboard + 1\n",
    "IsAlone: Binary flag (1 if FamilySize = 1)\n",
    "AgeGroup: Categorical bins (Child: <13, Teen: 13-19, Adult: 20-59, Senior: 60+)"
   ]
  },
  {
   "cell_type": "code",
   "execution_count": 10,
   "id": "6f0c3282-0e21-4b1c-a5ee-8c04ab6d2512",
   "metadata": {},
   "outputs": [],
   "source": [
    "# FamilySize: Sum of Siblings/Spouses Aboard + Parents/Children Aboard + 1\n",
    "titanic_data['FamilySize'] = titanic_data['SibSp'] + titanic_data['Parch'] + 1\n",
    "# note that .sum() sums the whole column, not just the row"
   ]
  },
  {
   "cell_type": "code",
   "execution_count": 11,
   "id": "f87be204-3003-41d4-b85c-30b9b6dbb70c",
   "metadata": {},
   "outputs": [],
   "source": [
    "# IsAlone: Binary flag (1 if FamilySize = 1)\n",
    "titanic_data['IsAlone'] = (titanic_data['FamilySize'] == 1).astype(int)\n",
    "# titanic_data['FamilySize'] == 1 creates a boolean Series (True/False)\n",
    "#  .astype(int) converts True to 1 and False to 0"
   ]
  },
  {
   "cell_type": "code",
   "execution_count": 12,
   "id": "b7040f92-2fad-4b20-a9b7-ea6d93c3ae84",
   "metadata": {},
   "outputs": [],
   "source": [
    "# AgeGroup: Categorical bins (Child: <13, Teen: 13-19, Adult: 20-59, Senior: 60+)\n",
    "# method 1, works and is very easy to read. \n",
    "titanic_data['AgeGroup'] = titanic_data['Age'].apply(\n",
    "    lambda x: 'Child' if x < 13 else\n",
    "              'Teen' if 13 <= x < 20 else\n",
    "              'Adult' if 20 <= x < 60 else\n",
    "              'Senior'\n",
    ")\n",
    "bins = [0, 12, 19, 59, float('inf')]\n",
    "labels = ['Child', 'Teen', 'Adult', 'Senior']\n",
    "titanic_data['AgeGroup'] = pd.cut(titanic_data['Age'], bins=bins, labels=labels, right=False)\n",
    "# method 2, uses pd.cut() more efficent and handles NaN\n",
    "# The right=False parameter makes intervals left-closed [a, b)\n",
    "# Use float('inf') for the upper bound of the last category"
   ]
  },
  {
   "cell_type": "raw",
   "id": "e5a4c928-420f-410a-80ca-2fdaac807d97",
   "metadata": {},
   "source": [
    "4. Survival Analysis\n",
    "\n",
    "Calculate:\n",
    "Overall survival rate\n",
    "Survival rate by gender\n",
    "Survival rate by passenger class (Pclass)\n",
    "Survival rate for passengers traveling alone vs. with family\n",
    "Top 3 age groups with highest survival rate"
   ]
  },
  {
   "cell_type": "code",
   "execution_count": 13,
   "id": "3b23eae1-377e-4618-b494-4f305785f6f2",
   "metadata": {},
   "outputs": [],
   "source": [
    "# Overall survival rate\n",
    "total_survival_rate = titanic_data['Survived'].mean()\n",
    "# Survival rate by gender\n",
    "survival_by_gender = titanic_data.groupby('Sex')['Survived'].mean()\n",
    "# Survival rate by passenger class (Pclass)\n",
    "survival_by_class = titanic_data.groupby('Pclass')['Survived'].mean()\n",
    "# Survival rate for passengers traveling alone vs. with family\n",
    "survival_by_family = titanic_data.groupby('IsAlone')['Survived'].mean()"
   ]
  },
  {
   "cell_type": "code",
   "execution_count": 14,
   "id": "4591b055-bc25-41cb-afd8-7c25abdbe5ea",
   "metadata": {},
   "outputs": [],
   "source": [
    "# Top 3 age groups with highest survival rate\n",
    "top_3_age_groups = (titanic_data.groupby('AgeGroup', observed=True)['Survived']\n",
    "                      .mean()\n",
    "                      .sort_values(ascending=False)\n",
    "                      .head(3))\n",
    "# or could use: # Calculate survival rate by age group\n",
    "# survival_by_age_group = titanic_data.groupby('AgeGroup')['Survived'].mean()\n",
    "# Get top 3 age groups with highest survival rate\n",
    "# top_3_age_groups = survival_by_age_group.sort_values(ascending=False).head(3)"
   ]
  },
  {
   "cell_type": "raw",
   "id": "42e04db6-4e8b-4f34-a8f1-91bb5cb1f870",
   "metadata": {},
   "source": [
    "6. Advanced Operations\n",
    "\n",
    "Use groupby() + agg() to calculate for each Pclass:\n",
    "Average age\n",
    "Survival rate\n",
    "Median fare\n",
    "Use pivot_table to show survival rates by AgeGroup and Sex"
   ]
  },
  {
   "cell_type": "code",
   "execution_count": 15,
   "id": "7dfad0ad-3d2b-4a4d-a214-981cba132a5e",
   "metadata": {},
   "outputs": [],
   "source": [
    "# Average age by Pclass\n",
    "average_age_pclass = titanic_data.groupby('Pclass')['Age'].mean()\n",
    "# Survival rate by pclass\n",
    "survival_pclass = titanic_data.groupby('Pclass')['Survived'].mean()\n",
    "# median fare by pclass\n",
    "median_fare_pclass = titanic_data.groupby('Pclass')['Fare'].median()"
   ]
  },
  {
   "cell_type": "code",
   "execution_count": 16,
   "id": "063e566a-0a99-4f2a-9cfe-ef6e7f49c2c3",
   "metadata": {},
   "outputs": [
    {
     "data": {
      "text/plain": [
       "<Axes: title={'center': 'Survival Rate by Age Group and Sex'}, xlabel='Age Group', ylabel='Survival Rate'>"
      ]
     },
     "execution_count": 16,
     "metadata": {},
     "output_type": "execute_result"
    },
    {
     "data": {
      "image/png": "[encoded data removed]",
      "text/plain": [
       "<Figure size 640x480 with 1 Axes>"
      ]
     },
     "metadata": {},
     "output_type": "display_data"
    }
   ],
   "source": [
    "# pivot plot for suvival rate by agegroup and sex\n",
    "pivot = titanic_data.pivot_table(\n",
    "    observed=True,\n",
    "    index=\"AgeGroup\",    # What goes on the left (rows)\n",
    "    columns=\"Sex\",    # What breaks into columns\n",
    "    values=\"Survived\",    # What to aggregate\n",
    "    aggfunc=\"mean\"      # How to aggregate (sum, mean, count, etc.)\n",
    ")\n",
    "pivot.plot(\n",
    "    kind=\"bar\", \n",
    "    title=\"Survival Rate by Age Group and Sex\",\n",
    "    ylabel=\"Survival Rate\",\n",
    "    xlabel=\"Age Group\",\n",
    "    rot=45  # Rotate x-axis labels for readability\n",
    ")"
   ]
  },
  {
   "cell_type": "raw",
   "id": "73022c00-8f4e-4708-a666-d3ea3f658c83",
   "metadata": {},
   "source": [
    "7. Visualizations\n",
    "\n",
    "Create these plots (save as PNG):\n",
    "\n",
    "Bar plot: Survival rate by passenger class\n",
    "Pie chart: Gender distribution of survivors\n",
    "Box plot: Fare distribution by survival status\n",
    "Histogram: Age distribution with KDE curve"
   ]
  },
  {
   "cell_type": "code",
   "execution_count": 17,
   "id": "8373d8e2-c1b9-406a-b675-46ed6ea000de",
   "metadata": {},
   "outputs": [
    {
     "data": {
      "text/plain": [
       "<Axes: title={'center': 'Survival rate by passenger class'}, xlabel='Pclass'>"
      ]
     },
     "execution_count": 17,
     "metadata": {},
     "output_type": "execute_result"
    },
    {
     "data": {
      "image/png": "[encoded data removed]",
      "text/plain": [
       "<Figure size 640x480 with 1 Axes>"
      ]
     },
     "metadata": {},
     "output_type": "display_data"
    }
   ],
   "source": [
    "# Bar plot\n",
    "titanic_data.groupby('Pclass')['Survived'].mean().plot(kind='bar', title='Survival rate by passenger class')"
   ]
  },
  {
   "cell_type": "code",
   "execution_count": 18,
   "id": "1e658061-cd46-4bdc-b65a-b6b4ca4463a6",
   "metadata": {},
   "outputs": [
    {
     "data": {
      "text/plain": [
       "Text(0, 0.5, '')"
      ]
     },
     "execution_count": 18,
     "metadata": {},
     "output_type": "execute_result"
    },
    {
     "data": {
      "image/png": "[encoded data removed]",
      "text/plain": [
       "<Figure size 640x480 with 1 Axes>"
      ]
     },
     "metadata": {},
     "output_type": "display_data"
    }
   ],
   "source": [
    "# Pie chart: Gender distribution of survivors\n",
    "titanic_data[titanic_data['Survived'] == 1].groupby('Sex')['Survived'].sum().plot(\n",
    "          kind='pie',  # Filter survivors only   # Count survivors by gender\n",
    "          autopct='%.1f%%',                   # Show percentages\n",
    "          title='Gender Distribution of Survivors',\n",
    "          colors=['lightcoral', 'steelblue'],  # Custom colors\n",
    "          startangle=90,                       # Rotate for better readability\n",
    "          explode=(0.05, 0),                   # Slightly separate slices\n",
    "          shadow=True)                         # Add shadow for depth\n",
    "plt.ylabel('')  # Remove default y-label (\"Survived\")"
   ]
  },
  {
   "cell_type": "code",
   "execution_count": 19,
   "id": "36b5b0a7-a2a5-4756-afef-ed272d73145f",
   "metadata": {},
   "outputs": [
    {
     "data": {
      "text/plain": [
       "([<matplotlib.axis.XTick at 0x115af74d0>,\n",
       "  <matplotlib.axis.XTick at 0x115b46990>],\n",
       " [Text(1, 0, 'Died'), Text(2, 0, 'Survived')])"
      ]
     },
     "execution_count": 19,
     "metadata": {},
     "output_type": "execute_result"
    },
    {
     "data": {
      "image/png": "[encoded data removed]",
      "text/plain": [
       "<Figure size 640x480 with 1 Axes>"
      ]
     },
     "metadata": {},
     "output_type": "display_data"
    }
   ],
   "source": [
    "# Box plot: Fare distribution by survival status\n",
    "titanic_data.boxplot(\n",
    "    column='Fare', \n",
    "    by='Survived',\n",
    "    grid=False,\n",
    "    patch_artist=True,  # Color the boxes\n",
    "    boxprops=dict(facecolor='lightblue'),  # Box color\n",
    "    medianprops=dict(color='red'),  # Median line color\n",
    "    flierprops=dict(marker='o', markersize=5)  # Outlier style\n",
    ")\n",
    "plt.title('Fare Distribution by Survival Status')\n",
    "plt.suptitle('')  # Remove default subtitle\n",
    "plt.xlabel('Survived (0=No, 1=Yes)')\n",
    "plt.ylabel('Fare (USD)')\n",
    "plt.xticks([1, 2], ['Died', 'Survived'])  # Replace 0/1 with labels"
   ]
  },
  {
   "cell_type": "code",
   "execution_count": 40,
   "id": "db40c25c-3f8f-4d7f-8a29-19ed46a96540",
   "metadata": {},
   "outputs": [],
   "source": [
    "# Histogram: Age distribution with KDE curve\n",
    "# not possible without extra imports like seaborn!"
   ]
  },
  {
   "cell_type": "raw",
   "id": "6e8e0bf9-25ea-4218-8af7-873a72629a34",
   "metadata": {},
   "source": [
    "8. Export Results\n",
    "\n",
    "Save cleaned dataset as titanic_clean.csv\n",
    "Export key statistics to Excel with 3 sheets:\n",
    "Survival summary\n",
    "Fare analysis\n",
    "Demographics"
   ]
  },
  {
   "cell_type": "code",
   "execution_count": 22,
   "id": "64f58b84-d50f-47fd-90fc-77e34de4c5af",
   "metadata": {},
   "outputs": [],
   "source": [
    "# Save cleaned dataset as titanic_clean.csv\n",
    "titanic_data.to_csv('titanic_clean.csv', index=False)\n",
    "# the index=False parameter tells pandas not to write the DataFrame's index (row numbers) into the CSV file"
   ]
  },
  {
   "cell_type": "code",
   "execution_count": 28,
   "id": "1a753fb3-9da8-4f26-86a1-5a4414b85b40",
   "metadata": {},
   "outputs": [
    {
     "data": {
      "text/plain": [
       "'\\nsurvival_data = {\\n    \"Overall Survival Rate\": [total_survival_rate],\\n    \"Female Survival Rate\": [survival_by_gender[\\'female\\']],\\n    \"Male Survival Rate\": [survival_by_gender[\\'male\\']],\\n    \"1st Class Survival Rate\": [survival_by_class[1]],\\n    \"2nd Class Survival Rate\": [survival_by_class[2]],\\n    \"3rd Class Survival Rate\": [survival_by_class[3]],\\n    \"Alone Passenger Survival Rate\": [survival_by_family[1]],  # Assuming 1=IsAlone\\n    \"Family Passenger Survival Rate\": [survival_by_family[0]]   # Assuming 0=WithFamily\\n}\\n\\n# Create and save DataFrame\\npd.DataFrame.from_dict(survival_data, orient=\\'index\\', columns=[\\'Rate\\']).to_csv(\\'survival_stats.csv\\')\\n# Combine fare stats (transposed for readability)\\n\\nfare_stats = titanic_data.groupby(\\'Pclass\\')[\\'Fare\\'].agg([\\'mean\\', \\'median\\'])\\nfare_describe = titanic_data.groupby(\\'Survived\\')[\\'Fare\\'].describe()\\n\\n# Save each table to separate CSV files\\nfare_stats.T.to_csv(\\'fare_stats_by_class.csv\\')  # Transposed: Pclass as columns\\nfare_describe.T.to_csv(\\'fare_stats_by_survival.csv\\')  # Transposed for clarity\\n\\n# Save top 10 fares separately\\ntitanic_data.nlargest(10, \\'Fare\\').to_csv(\\'top_10_fares.csv\\', index=False)\\n\\n# Combine demographic stats\\ndemo_stats = pd.concat([\\n    titanic_data[\\'Sex\\'].value_counts().rename(\\'Passenger Count by Sex\\'),\\n    titanic_data[\\'Pclass\\'].value_counts().rename(\\'Passenger Count by Class\\'),\\n    titanic_data[\\'Age\\'].describe().rename(\\'Age Distribution\\')\\n], axis=1)\\n\\ndemo_stats.to_csv(\\'demographics.csv\\', index=True)  # Keep index (metric names)\\n'"
      ]
     },
     "execution_count": 28,
     "metadata": {},
     "output_type": "execute_result"
    }
   ],
   "source": [
    "# Export key statistics to Excel with 3 sheets:\n",
    "# Convert all statistics to DataFrames with clear labels\n",
    "'''\n",
    "survival_data = {\n",
    "    \"Overall Survival Rate\": [total_survival_rate],\n",
    "    \"Female Survival Rate\": [survival_by_gender['female']],\n",
    "    \"Male Survival Rate\": [survival_by_gender['male']],\n",
    "    \"1st Class Survival Rate\": [survival_by_class[1]],\n",
    "    \"2nd Class Survival Rate\": [survival_by_class[2]],\n",
    "    \"3rd Class Survival Rate\": [survival_by_class[3]],\n",
    "    \"Alone Passenger Survival Rate\": [survival_by_family[1]],  # Assuming 1=IsAlone\n",
    "    \"Family Passenger Survival Rate\": [survival_by_family[0]]   # Assuming 0=WithFamily\n",
    "}\n",
    "\n",
    "# Create and save DataFrame\n",
    "pd.DataFrame.from_dict(survival_data, orient='index', columns=['Rate']).to_csv('survival_stats.csv')\n",
    "# Combine fare stats (transposed for readability)\n",
    "\n",
    "fare_stats = titanic_data.groupby('Pclass')['Fare'].agg(['mean', 'median'])\n",
    "fare_describe = titanic_data.groupby('Survived')['Fare'].describe()\n",
    "\n",
    "# Save each table to separate CSV files\n",
    "fare_stats.T.to_csv('fare_stats_by_class.csv')  # Transposed: Pclass as columns\n",
    "fare_describe.T.to_csv('fare_stats_by_survival.csv')  # Transposed for clarity\n",
    "\n",
    "# Save top 10 fares separately\n",
    "titanic_data.nlargest(10, 'Fare').to_csv('top_10_fares.csv', index=False)\n",
    "\n",
    "# Combine demographic stats\n",
    "demo_stats = pd.concat([\n",
    "    titanic_data['Sex'].value_counts().rename('Passenger Count by Sex'),\n",
    "    titanic_data['Pclass'].value_counts().rename('Passenger Count by Class'),\n",
    "    titanic_data['Age'].describe().rename('Age Distribution')\n",
    "], axis=1)\n",
    "\n",
    "demo_stats.to_csv('demographics.csv', index=True)  # Keep index (metric names)\n",
    "'''"
   ]
  },
  {
   "cell_type": "code",
   "execution_count": null,
   "id": "07486df1-3e1c-4041-b8e9-e212baf90f99",
   "metadata": {},
   "outputs": [],
   "source": []
  }
 ],
 "metadata": {
  "kernelspec": {
   "display_name": "Python 3 (ipykernel)",
   "language": "python",
   "name": "python3"
  },
  "language_info": {
   "codemirror_mode": {
    "name": "ipython",
    "version": 3
   },
   "file_extension": ".py",
   "mimetype": "text/x-python",
   "name": "python",
   "nbconvert_exporter": "python",
   "pygments_lexer": "ipython3",
   "version": "3.13.5"
  }
 },
 "nbformat": 4,
 "nbformat_minor": 5
}
